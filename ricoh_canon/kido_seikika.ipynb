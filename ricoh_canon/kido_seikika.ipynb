{
 "cells": [
  {
   "cell_type": "code",
   "execution_count": 3,
   "id": "ed6fee67",
   "metadata": {},
   "outputs": [],
   "source": [
    "# -*- coding: utf-8 -*-\n",
    "import os\n",
    "\n",
    "import cv2\n",
    "import numpy as np\n",
    "from matplotlib import pyplot as plt\n",
    "\n",
    "def main():\n",
    "    count = 0\n",
    "    data_dir_path = u\"./exp2_kido_before/\"\n",
    "    file_list = os.listdir(r'./exp2_kido_before/')\n",
    "\n",
    "    for file_name in file_list:\n",
    "        root, ext = os.path.splitext(file_name)\n",
    "        if ext == u'.png' or u'.jpeg' or u'.jpg':\n",
    "            abs_name = data_dir_path + '/' + file_name\n",
    "            image = cv2.imread(abs_name)\n",
    "            #以下各画像に対する処理を記載する\n",
    "            hsv = cv2.cvtColor(image, cv2.COLOR_BGR2HSV) # hsv票色系に変換\n",
    "            h,s,v = cv2.split(hsv) # 各成分に分割\n",
    "            k = 32\n",
    "            m = 100\n",
    "            v = (v-np.mean(v)) / np.std(v) * k + m\n",
    "            result = np.array(v, dtype=np.uint8) # 配列のdtypeをunit8に戻す\n",
    "            hsv = cv2.merge((h,s,result))\n",
    "            rgb = cv2.cvtColor(hsv, cv2.COLOR_HSV2BGR)\n",
    "            count+=1\n",
    "            cv2.imwrite(\"exp2_kido_after/edit_\" + file_name, rgb)\n",
    "        \n",
    "            \n",
    "\n",
    "\n",
    "main()"
   ]
  },
  {
   "cell_type": "code",
   "execution_count": null,
   "id": "09d01b9f",
   "metadata": {},
   "outputs": [],
   "source": []
  }
 ],
 "metadata": {
  "kernelspec": {
   "display_name": "Python 3",
   "language": "python",
   "name": "python3"
  },
  "language_info": {
   "codemirror_mode": {
    "name": "ipython",
    "version": 3
   },
   "file_extension": ".py",
   "mimetype": "text/x-python",
   "name": "python",
   "nbconvert_exporter": "python",
   "pygments_lexer": "ipython3",
   "version": "3.8.8"
  }
 },
 "nbformat": 4,
 "nbformat_minor": 5
}
